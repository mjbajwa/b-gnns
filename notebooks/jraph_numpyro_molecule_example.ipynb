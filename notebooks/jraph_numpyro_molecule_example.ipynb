{
 "cells": [
  {
   "cell_type": "markdown",
   "id": "b9ff3bb6-5144-469d-8a7e-39b248885534",
   "metadata": {
    "tags": []
   },
   "source": [
    "## Bayesian Graph Neural Networks: Binary Classification given Molecular Data"
   ]
  },
  {
   "cell_type": "markdown",
   "id": "536a187f-7764-40cd-91d4-5af713f09cf9",
   "metadata": {
    "tags": []
   },
   "source": [
    "### Load Libraries"
   ]
  },
  {
   "cell_type": "code",
   "execution_count": null,
   "id": "f040f2db-b5f6-4a26-80ca-23c0da004ed2",
   "metadata": {
    "tags": []
   },
   "outputs": [],
   "source": [
    "import jraph \n",
    "import jax\n",
    "import pickle\n",
    "import networkx as nx\n",
    "import optax\n",
    "import jax.numpy as jnp\n",
    "import functools\n",
    "import numpyro \n",
    "import numpy as np\n",
    "import matplotlib.pyplot as plt\n",
    "import numpyro.distributions as dist\n",
    "\n",
    "from flax import linen as nn\n",
    "from typing import Sequence\n",
    "from typing import Any, Callable, Dict, List, Optional, Tuple\n",
    "from numpyro.contrib.module import random_flax_module\n",
    "from numpyro.infer import MCMC, NUTS, Predictive, init_to_feasible, init_to_value\n",
    "from sklearn import metrics\n",
    "from clu import parameter_overview"
   ]
  },
  {
   "cell_type": "code",
   "execution_count": null,
   "id": "84300b46-69a3-4485-babf-83d7745a5eba",
   "metadata": {
    "tags": []
   },
   "outputs": [],
   "source": [
    "# Download jraph version of MUTAG.\n",
    "# !wget -P tmp/ https://storage.googleapis.com/dm-educational/assets/graph-nets/jraph_datasets/mutag.pickle"
   ]
  },
  {
   "cell_type": "code",
   "execution_count": null,
   "id": "fb783c2a-9a77-451c-83b3-b5e8fa66967e",
   "metadata": {
    "tags": []
   },
   "outputs": [],
   "source": [
    "numpyro.set_platform('gpu')"
   ]
  },
  {
   "cell_type": "code",
   "execution_count": null,
   "id": "11952011-0a7e-4241-b244-e3a467e82be3",
   "metadata": {
    "tags": []
   },
   "outputs": [],
   "source": [
    "# Utility functions stolen from Jraph introductory colab\n",
    "\n",
    "def convert_jraph_to_networkx_graph(jraph_graph: jraph.GraphsTuple) -> nx.Graph:\n",
    "    nodes, edges, receivers, senders, _, _, _ = jraph_graph\n",
    "    nx_graph = nx.DiGraph()\n",
    "    if nodes is None:\n",
    "        for n in range(jraph_graph.n_node[0]):\n",
    "          nx_graph.add_node(n)\n",
    "    else:\n",
    "        for n in range(jraph_graph.n_node[0]):\n",
    "          nx_graph.add_node(n, node_feature=nodes[n])\n",
    "    if edges is None:\n",
    "        for e in range(jraph_graph.n_edge[0]):\n",
    "          nx_graph.add_edge(int(senders[e]), int(receivers[e]))\n",
    "    else:\n",
    "        for e in range(jraph_graph.n_edge[0]):\n",
    "          nx_graph.add_edge(\n",
    "              int(senders[e]), int(receivers[e]), edge_feature=edges[e])\n",
    "    return nx_graph\n",
    "\n",
    "\n",
    "def draw_jraph_graph_structure(jraph_graph: jraph.GraphsTuple) -> None:\n",
    "    nx_graph = convert_jraph_to_networkx_graph(jraph_graph)\n",
    "    pos = nx.spring_layout(nx_graph)\n",
    "    nx.draw(\n",
    "      nx_graph, pos=pos, with_labels=True, node_size=500, font_color='yellow')"
   ]
  },
  {
   "cell_type": "code",
   "execution_count": null,
   "id": "5575f466-48ce-4f55-ac05-8e262ea5c77f",
   "metadata": {
    "tags": []
   },
   "outputs": [],
   "source": [
    "# Load Data\n",
    "\n",
    "with open('tmp/mutag.pickle', 'rb') as f:\n",
    "    mutag_ds = pickle.load(f)\n",
    "    \n",
    "# Assign train and test sets\n",
    "\n",
    "train_mutag_ds = mutag_ds[:150]\n",
    "test_mutag_ds = mutag_ds[150:]"
   ]
  },
  {
   "cell_type": "code",
   "execution_count": null,
   "id": "a620a524-bb8e-49bc-8321-1dc2d0175db3",
   "metadata": {
    "tags": []
   },
   "outputs": [],
   "source": [
    "draw_jraph_graph_structure(train_mutag_ds[0]['input_graph'])"
   ]
  },
  {
   "cell_type": "code",
   "execution_count": null,
   "id": "e4d1dd9e-40f2-40ff-8a35-cc4a42161f0b",
   "metadata": {
    "tags": []
   },
   "outputs": [],
   "source": [
    "# Graph Padding - Ignored entirely in the Bayesian formulation (not needed for speed right now)\n",
    "\n",
    "def _nearest_bigger_power_of_two(x: int) -> int:\n",
    "    \"\"\"Computes the nearest power of two greater than x for padding.\"\"\"\n",
    "    y = 2\n",
    "    while y < x:\n",
    "        y *= 2\n",
    "    return y\n",
    "\n",
    "def pad_graph_to_nearest_power_of_two(\n",
    "    graphs_tuple: jraph.GraphsTuple) -> jraph.GraphsTuple:\n",
    "    \"\"\"Pads a batched `GraphsTuple` to the nearest power of two.\n",
    "    For example, if a `GraphsTuple` has 7 nodes, 5 edges and 3 graphs, this method\n",
    "    would pad the `GraphsTuple` nodes and edges:\n",
    "    7 nodes --> 8 nodes (2^3)\n",
    "    5 edges --> 8 edges (2^3)\n",
    "    And since padding is accomplished using `jraph.pad_with_graphs`, an extra\n",
    "    graph and node is added:\n",
    "    8 nodes --> 9 nodes\n",
    "    3 graphs --> 4 graphs\n",
    "    Args:\n",
    "    graphs_tuple: a batched `GraphsTuple` (can be batch size 1).\n",
    "    Returns:\n",
    "    A graphs_tuple batched to the nearest power of two.\n",
    "    \"\"\"\n",
    "    # Add 1 since we need at least one padding node for pad_with_graphs.\n",
    "    pad_nodes_to = _nearest_bigger_power_of_two(jnp.sum(graphs_tuple.n_node)) + 1\n",
    "    pad_edges_to = _nearest_bigger_power_of_two(jnp.sum(graphs_tuple.n_edge))\n",
    "    # Add 1 since we need at least one padding graph for pad_with_graphs.\n",
    "    # We do not pad to nearest power of two because the batch size is fixed.\n",
    "    pad_graphs_to = graphs_tuple.n_node.shape[0] + 1\n",
    "    return jraph.pad_with_graphs(\n",
    "        graphs_tuple, \n",
    "        pad_nodes_to, \n",
    "        pad_edges_to,\n",
    "        pad_graphs_to\n",
    "    )"
   ]
  },
  {
   "cell_type": "code",
   "execution_count": null,
   "id": "5fc05a5b-e4db-41c4-a392-a68eb4eb98ea",
   "metadata": {
    "tags": []
   },
   "outputs": [],
   "source": [
    "# Definition of model class using Jraph and Flax\n",
    "\n",
    "class ExplicitMLP(nn.Module):\n",
    "    \"\"\"A flax MLP.\"\"\"\n",
    "    features: Sequence[int]\n",
    "\n",
    "    @nn.compact\n",
    "    def __call__(self, inputs):\n",
    "        x = inputs\n",
    "        for i, lyr in enumerate([nn.Dense(feat) for feat in self.features]):\n",
    "          x = lyr(x)\n",
    "          if i != len(self.features) - 1:\n",
    "            x = nn.relu(x)\n",
    "        return x\n",
    "    \n",
    "def make_embed_fn(latent_size):\n",
    "    def embed(inputs):\n",
    "        return nn.Dense(latent_size)(inputs)\n",
    "    return embed\n",
    "\n",
    "def make_mlp(features):\n",
    "    @jraph.concatenated_args\n",
    "    def update_fn(inputs):\n",
    "        return ExplicitMLP(features)(inputs)\n",
    "    return update_fn\n",
    "\n",
    "class GraphNetwork(nn.Module):\n",
    "    \"\"\"A flax GraphNetwork.\"\"\"\n",
    "    mlp_features: Sequence[int]\n",
    "    latent_size: int\n",
    "\n",
    "    @nn.compact\n",
    "    def __call__(self, graph):\n",
    "    \n",
    "        # Add a global parameter for graph classification computation\n",
    "        \n",
    "        graph = graph._replace(globals=jnp.zeros([graph.n_node.shape[0], 1]))\n",
    "\n",
    "        embedder = jraph.GraphMapFeatures(\n",
    "            embed_node_fn=make_embed_fn(self.latent_size),\n",
    "            embed_edge_fn=make_embed_fn(self.latent_size),\n",
    "            embed_global_fn=make_embed_fn(self.latent_size))\n",
    "        \n",
    "        net = jraph.GraphNetwork(\n",
    "            update_node_fn=make_mlp(self.mlp_features),\n",
    "            update_edge_fn=make_mlp(self.mlp_features),\n",
    "            update_global_fn=make_mlp(self.mlp_features + (1,)))  # pytype: disable=unsupported-operands\n",
    "\n",
    "        return net(embedder(graph))"
   ]
  },
  {
   "cell_type": "markdown",
   "id": "de98b6b2-adf0-4b55-9ba4-14031579967b",
   "metadata": {},
   "source": [
    "### Modifications for NumPyro specifically"
   ]
  },
  {
   "cell_type": "code",
   "execution_count": null,
   "id": "d262d985-a48d-48e3-96e9-195019b0f9d7",
   "metadata": {
    "tags": []
   },
   "outputs": [],
   "source": [
    "# Obtain targets for training and testing\n",
    "\n",
    "y_train = np.zeros(shape=(len(train_mutag_ds, )))\n",
    "y_test = np.zeros(shape=len(test_mutag_ds,))\n",
    "                    \n",
    "for idx, obj in enumerate(train_mutag_ds):\n",
    "    y_train[idx] = obj['target']\n",
    "    \n",
    "for idx, obj in enumerate(test_mutag_ds):\n",
    "    y_test[idx] = obj['target']\n",
    "    \n",
    "y_train = jnp.array(y_train)\n",
    "y_test = jnp.array(y_test)"
   ]
  },
  {
   "cell_type": "code",
   "execution_count": null,
   "id": "42da979f-6dc3-4df2-b632-fabe87db7a43",
   "metadata": {
    "tags": []
   },
   "outputs": [],
   "source": [
    "# Batch graphs for ease of predictions in the forward pass\n",
    "\n",
    "train_mutag_batch = jraph.batch([g['input_graph'] for g in train_mutag_ds])\n",
    "test_mutag_batch = jraph.batch([g['input_graph'] for g in test_mutag_ds])"
   ]
  },
  {
   "cell_type": "code",
   "execution_count": null,
   "id": "3f4f326d-06d8-45fc-9967-b74e2a19e442",
   "metadata": {
    "tags": []
   },
   "outputs": [],
   "source": [
    "# Define model\n",
    "\n",
    "def numpyro_model(batch_of_graphs, target, init_graph):\n",
    "    \n",
    "    # Define base flax module\n",
    "\n",
    "    module = GraphNetwork(mlp_features=[64, 64], latent_size=64)\n",
    "    \n",
    "    # Register as a random flax module (parameter inference done outside)\n",
    "    # TODO: check if graph argument makes sense. Would it just keep the graph static?\n",
    "    \n",
    "    net = random_flax_module(\n",
    "        \"Mutag_GraphNet_Model\",\n",
    "        module,\n",
    "        prior = dist.StudentT(df=4.0, scale=0.1),\n",
    "        input_shape=None, \n",
    "        graph=init_graph,\n",
    "    )\n",
    "\n",
    "    # Faster forward pass\n",
    "    \n",
    "    pred_graph = net(batch_of_graphs)\n",
    "    preds = pred_graph.globals.flatten()\n",
    "    prob = jax.nn.sigmoid(preds) # this is a sigmoid function for binary classification\n",
    "    numpyro.deterministic(\"prob\", prob)\n",
    "    \n",
    "    return numpyro.sample(\"y_pred\", dist.Bernoulli(prob), obs=target)\n",
    "    \n",
    "# Initialize model\n",
    "\n",
    "# model2 = GraphNetwork(mlp_features=[64, 64], latent_size=64)\n",
    "# key = jax.random.PRNGKey(0)\n",
    "# params = model2.init(key, train_mutag_ds[0]['input_graph'])\n",
    "# print(parameter_overview.get_parameter_overview(params))\n",
    "# del model2, params\n",
    "\n",
    "# Initialize MCMC\n",
    "\n",
    "# kernel = NUTS(model, init_strategy=init_to_value(values=init_new), target_accept_prob=0.70)\n",
    "kernel = NUTS(numpyro_model, \n",
    "              init_strategy = init_to_feasible(), # init_to_value(values=variables), # init_to_uniform(), \n",
    "              target_accept_prob=0.80,\n",
    "              max_tree_depth=10,\n",
    "              )\n",
    "\n",
    "mcmc = MCMC(\n",
    "    kernel,\n",
    "    num_warmup=100,\n",
    "    num_samples=100,\n",
    "    num_chains=1,\n",
    "    progress_bar=True, # TOGGLE this...\n",
    "    chain_method=\"vectorized\", # \"vectorized\"\n",
    ")"
   ]
  },
  {
   "cell_type": "code",
   "execution_count": null,
   "id": "d12e0b48-c06e-4f33-8089-ea531d2705b0",
   "metadata": {
    "tags": []
   },
   "outputs": [],
   "source": [
    "mcmc.run(jax.random.PRNGKey(42), train_mutag_batch, jnp.int32(y_train), train_mutag_ds[0]['input_graph'])"
   ]
  },
  {
   "cell_type": "code",
   "execution_count": null,
   "id": "4837ffd2-1dd9-40d9-8b87-40a00ba717e9",
   "metadata": {
    "tags": []
   },
   "outputs": [],
   "source": [
    "# Make predictions\n",
    "\n",
    "y_train_preds = Predictive(numpyro_model, mcmc.get_samples())(jax.random.PRNGKey(42), batch_of_graphs=train_mutag_batch, target=None, init_graph=train_mutag_ds[0]['input_graph'])\n",
    "y_test_preds = Predictive(numpyro_model, mcmc.get_samples())(jax.random.PRNGKey(42), batch_of_graphs=test_mutag_batch, target=None, init_graph=train_mutag_ds[0]['input_graph'])"
   ]
  },
  {
   "cell_type": "code",
   "execution_count": null,
   "id": "fdb51ef1-1e59-46c6-b384-35ed1cfdb8d8",
   "metadata": {
    "tags": []
   },
   "outputs": [],
   "source": [
    "# Parse out probabilities\n",
    "\n",
    "y_train_probs = y_train_preds[\"prob\"]\n",
    "y_test_probs = y_test_preds[\"prob\"]"
   ]
  },
  {
   "cell_type": "code",
   "execution_count": null,
   "id": "74c5c6de-4d40-4ce8-b348-4bffb178d2bc",
   "metadata": {
    "tags": []
   },
   "outputs": [],
   "source": [
    "def plot_and_print_auc(y_test, y_test_probs, title=\"ROC AUC Curve\"):\n",
    "    \n",
    "    print(\"AUC Score: \", metrics.roc_auc_score(np.int32(y_test), y_test_probs), \" \\n\")\n",
    "\n",
    "    fpr, tpr, thresholds = metrics.roc_curve(np.int32(y_test), y_test_probs)\n",
    "    plt.plot(fpr, tpr, \"bo-\")\n",
    "    plt.xlabel(\"False Positive Rate\")\n",
    "    plt.ylabel(\"True Positive Rate\")\n",
    "    plt.grid()\n",
    "    plt.title(title)"
   ]
  },
  {
   "cell_type": "code",
   "execution_count": null,
   "id": "ac74af13-b20d-47c2-8c1c-4b606fc1fea2",
   "metadata": {
    "tags": []
   },
   "outputs": [],
   "source": [
    "plot_and_print_auc(y_test, y_test_probs.mean(axis=0), \"ROC AUC Curve: Test Set\")"
   ]
  },
  {
   "cell_type": "code",
   "execution_count": null,
   "id": "91619e28-0f90-4c4a-9a15-90577d34abb4",
   "metadata": {
    "tags": []
   },
   "outputs": [],
   "source": [
    "plot_and_print_auc(y_train, y_train_probs.mean(axis=0), \"ROC AUC Curve: Train Set\")"
   ]
  },
  {
   "cell_type": "code",
   "execution_count": null,
   "id": "a7c20808-4967-4bcf-aa9a-9f31454a2145",
   "metadata": {
    "tags": []
   },
   "outputs": [],
   "source": [
    "# Accuracy on the test set as per previous measure\n",
    "# Requires a probability threshold \n",
    "\n",
    "fpr, tpr, thresholds = metrics.roc_curve(np.int32(y_test), y_test_probs.mean(axis=0))\n",
    "THRESHOLD = thresholds[jnp.where(tpr>0.8)][0] # This is ideally the far left most point on the ROC curve, but needs confirmation\n",
    "y_predicted = y_test_probs.mean(axis=0)\n",
    "y_predicted = jnp.where(y_predicted>THRESHOLD, 1, 0)\n",
    "print(\"Test Accuracy: \", metrics.accuracy_score(y_test, y_predicted))"
   ]
  },
  {
   "cell_type": "markdown",
   "id": "a5702ee6-38f7-446c-9bcb-6aace4fd7207",
   "metadata": {},
   "source": [
    "### AUC curve with uncertainty"
   ]
  },
  {
   "cell_type": "code",
   "execution_count": null,
   "id": "171955a3-c3e1-40a9-8245-31b93c55a24b",
   "metadata": {
    "tags": []
   },
   "outputs": [],
   "source": [
    "import pandas as pd"
   ]
  },
  {
   "cell_type": "code",
   "execution_count": null,
   "id": "a3cf2d6d-f77d-43eb-ad4b-6217257f75da",
   "metadata": {
    "tags": []
   },
   "outputs": [],
   "source": [
    "fpr_all = []\n",
    "tpr_all = []"
   ]
  },
  {
   "cell_type": "code",
   "execution_count": null,
   "id": "815f7388-843f-4b9e-863e-6224adcb9277",
   "metadata": {
    "tags": []
   },
   "outputs": [],
   "source": [
    "for s in range(0, y_test_probs.shape[0]):\n",
    "\n",
    "    fpr, tpr, _ = metrics.roc_curve(np.int32(y_test), y_test_probs[s, :])\n",
    "    fpr_all.append(fpr)\n",
    "    tpr_all.append(tpr)"
   ]
  },
  {
   "cell_type": "code",
   "execution_count": null,
   "id": "6860ec14-d87d-4328-97fb-33391e8432fd",
   "metadata": {
    "tags": []
   },
   "outputs": [],
   "source": [
    "fpr_all = np.hstack(fpr_all)\n",
    "tpr_all = np.hstack(tpr_all)"
   ]
  },
  {
   "cell_type": "code",
   "execution_count": null,
   "id": "d1137aa4-61a5-4224-a2a5-db48adaa171b",
   "metadata": {
    "tags": []
   },
   "outputs": [],
   "source": [
    "df = pd.DataFrame({\"fpr\": fpr_all, \"tpr\": tpr_all})\n",
    "df_mean = df.groupby(\"fpr\").mean().reset_index()\n",
    "df_p5 = df.groupby(\"fpr\").quantile(0.05).reset_index()\n",
    "df_p95 = df.groupby(\"fpr\").quantile(0.95).reset_index()"
   ]
  },
  {
   "cell_type": "code",
   "execution_count": null,
   "id": "fdefad60-fcd8-40c1-a94c-f178ae6801d5",
   "metadata": {
    "tags": []
   },
   "outputs": [],
   "source": [
    "plt.plot(fpr_all, tpr_all, \"bo\", alpha=0.01)\n",
    "plt.plot(df_mean[\"fpr\"], df_mean[\"tpr\"], \"r-\")\n",
    "plt.plot(df_p5[\"fpr\"], df_p5[\"tpr\"], \"k--\")\n",
    "plt.plot(df_p95[\"fpr\"], df_p95[\"tpr\"], \"k--\")\n",
    "plt.xlabel(\"False Positive Rate\")\n",
    "plt.ylabel(\"True Positive Rate\")\n",
    "plt.grid()\n"
   ]
  }
 ],
 "metadata": {
  "kernelspec": {
   "display_name": "Python 3 (ipykernel)",
   "language": "python",
   "name": "python3"
  },
  "language_info": {
   "codemirror_mode": {
    "name": "ipython",
    "version": 3
   },
   "file_extension": ".py",
   "mimetype": "text/x-python",
   "name": "python",
   "nbconvert_exporter": "python",
   "pygments_lexer": "ipython3",
   "version": "3.9.16"
  }
 },
 "nbformat": 4,
 "nbformat_minor": 5
}
